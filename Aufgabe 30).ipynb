{
 "metadata": {
  "name": "",
  "signature": "sha256:86c7db942b0ecb0d796ff4fb3e9b444bed976915d1fd5ad6aee3c82686f07f22"
 },
 "nbformat": 3,
 "nbformat_minor": 0,
 "worksheets": [
  {
   "cells": [
    {
     "cell_type": "code",
     "collapsed": false,
     "input": [
      "%matplotlib inline\n",
      "from IPython.display import display\n",
      "from sympy import *\n",
      "from sympy.abc import x\n",
      "init_printing()"
     ],
     "language": "python",
     "metadata": {},
     "outputs": [],
     "prompt_number": 4
    },
    {
     "cell_type": "code",
     "collapsed": false,
     "input": [
      "omega = exp(-x**2)\n",
      "q0 = 1\n",
      "scalarprod_q0 = integrate(omega * x * q0 * q0, x)\n",
      "norm_q0 = integrate(omega*q0*q0, x)\n",
      "beta_0 = scalarprod_q0/norm_q0\n",
      "display(beta_0)"
     ],
     "language": "python",
     "metadata": {},
     "outputs": [
      {
       "latex": [
        "$$- \\frac{e^{- x^{2}}}{\\sqrt{\\pi} \\operatorname{erf}{\\left (x \\right )}}$$"
       ],
       "metadata": {},
       "output_type": "display_data",
       "png": "[encoded data removed]",
       "text": [
        "       2    \n",
        "     -x     \n",
        "   -\u212f       \n",
        "\u2500\u2500\u2500\u2500\u2500\u2500\u2500\u2500\u2500\u2500\u2500\u2500\n",
        "  ___       \n",
        "\u2572\u2571 \u03c0 \u22c5erf(x)"
       ]
      }
     ],
     "prompt_number": 5
    },
    {
     "cell_type": "code",
     "collapsed": false,
     "input": [
      "q1 = x - beta_0\n",
      "scalarprod_q1 = integrate(omega * x * q1 * q1, x)\n",
      "norm_q1 = integrate(omega*q1*q1, x)"
     ],
     "language": "python",
     "metadata": {},
     "outputs": []
    },
    {
     "cell_type": "code",
     "collapsed": false,
     "input": [],
     "language": "python",
     "metadata": {},
     "outputs": []
    }
   ],
   "metadata": {}
  }
 ]
}