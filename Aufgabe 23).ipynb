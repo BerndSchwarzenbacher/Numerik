{
 "metadata": {
  "name": "",
  "signature": "sha256:78ec0a00bb1079b7286ac48af615fbc4168b119a8a1b2d662b3979fcfbf83b50"
 },
 "nbformat": 3,
 "nbformat_minor": 0,
 "worksheets": [
  {
   "cells": [
    {
     "cell_type": "code",
     "collapsed": false,
     "input": [
      "%matplotlib inline\n",
      "from IPython.display import display\n",
      "from sympy import *\n",
      "from sympy.abc import x, a, n\n",
      "k = Symbol(\"k\", positive=True, integer=True)\n",
      "init_printing()"
     ],
     "language": "python",
     "metadata": {},
     "outputs": [],
     "prompt_number": 15
    },
    {
     "cell_type": "code",
     "collapsed": false,
     "input": [
      "n = 6\n",
      "tj = [2*pi*j/n for j in range(n)]\n",
      "display(tj)"
     ],
     "language": "python",
     "metadata": {},
     "outputs": [
      {
       "latex": [
        "$$\\begin{bmatrix}0, & \\frac{\\pi}{3}, & \\frac{2 \\pi}{3}, & \\pi, & \\frac{4 \\pi}{3}, & \\frac{5 \\pi}{3}\\end{bmatrix}$$"
       ],
       "metadata": {},
       "output_type": "display_data",
       "text": [
        "\u23a1   \u03c0  2\u22c5\u03c0     4\u22c5\u03c0  5\u22c5\u03c0\u23a4\n",
        "\u23a20, \u2500, \u2500\u2500\u2500, \u03c0, \u2500\u2500\u2500, \u2500\u2500\u2500\u23a5\n",
        "\u23a3   3   3       3    3 \u23a6"
       ]
      }
     ],
     "prompt_number": 16
    },
    {
     "cell_type": "code",
     "collapsed": false,
     "input": [
      "fj = [expand((t - pi)*t*(t-2*pi)) for t in tj]\n",
      "display(fj)"
     ],
     "language": "python",
     "metadata": {},
     "outputs": [
      {
       "latex": [
        "$$\\begin{bmatrix}0, & \\frac{10 \\pi^{3}}{27}, & \\frac{8 \\pi^{3}}{27}, & 0, & - \\frac{8 \\pi^{3}}{27}, & - \\frac{10 \\pi^{3}}{27}\\end{bmatrix}$$"
       ],
       "metadata": {},
       "output_type": "display_data",
       "text": [
        "\u23a1       3     3         3        3 \u23a4\n",
        "\u23a2   10\u22c5\u03c0   8\u22c5\u03c0      -8\u22c5\u03c0    -10\u22c5\u03c0  \u23a5\n",
        "\u23a20, \u2500\u2500\u2500\u2500\u2500, \u2500\u2500\u2500\u2500, 0, \u2500\u2500\u2500\u2500\u2500\u2500, \u2500\u2500\u2500\u2500\u2500\u2500\u2500\u23a5\n",
        "\u23a3     27    27        27       27  \u23a6"
       ]
      }
     ],
     "prompt_number": 17
    },
    {
     "cell_type": "code",
     "collapsed": false,
     "input": [
      "ak = [2/n * sum([fj[j]*cos(k*tj[j]) for j in range(n)]) for k in range(4)]\n",
      "display(ak)"
     ],
     "language": "python",
     "metadata": {},
     "outputs": [
      {
       "latex": [
        "$$\\begin{bmatrix}0, & 0, & 0, & 0\\end{bmatrix}$$"
       ],
       "metadata": {},
       "output_type": "display_data",
       "text": [
        "[0, 0, 0, 0]"
       ]
      }
     ],
     "prompt_number": 18
    },
    {
     "cell_type": "code",
     "collapsed": false,
     "input": [
      "zk = [[simplify(fj[j]*sin(k*tj[j])) for j in range(n)] for k in range(1, 4)]\n",
      "display(zk)\n",
      "bk = [nsimplify(2/n * sum(zk[k])) for k in range(0, 3)]\n",
      "display(bk)"
     ],
     "language": "python",
     "metadata": {},
     "outputs": [
      {
       "latex": [
        "$$\\begin{bmatrix}\\begin{bmatrix}0, & \\frac{5 \\sqrt{3}}{27} \\pi^{3}, & \\frac{4 \\sqrt{3}}{27} \\pi^{3}, & 0, & \\frac{4 \\sqrt{3}}{27} \\pi^{3}, & \\frac{5 \\sqrt{3}}{27} \\pi^{3}\\end{bmatrix}, & \\begin{bmatrix}0, & \\frac{5 \\sqrt{3}}{27} \\pi^{3}, & - \\frac{4 \\sqrt{3}}{27} \\pi^{3}, & 0, & - \\frac{4 \\sqrt{3}}{27} \\pi^{3}, & \\frac{5 \\sqrt{3}}{27} \\pi^{3}\\end{bmatrix}, & \\begin{bmatrix}0, & 0, & 0, & 0, & 0, & 0\\end{bmatrix}\\end{bmatrix}$$"
       ],
       "metadata": {},
       "output_type": "display_data",
       "text": [
        "\u23a1\u23a1       ___  3      ___  3         ___  3      ___  3\u23a4  \u23a1       ___  3       \n",
        "\u23a2\u23a2   5\u22c5\u2572\u2571 3 \u22c5\u03c0   4\u22c5\u2572\u2571 3 \u22c5\u03c0      4\u22c5\u2572\u2571 3 \u22c5\u03c0   5\u22c5\u2572\u2571 3 \u22c5\u03c0 \u23a5  \u23a2   5\u22c5\u2572\u2571 3 \u22c5\u03c0   -4\u22c5\u2572\u2571\n",
        "\u23a2\u23a20, \u2500\u2500\u2500\u2500\u2500\u2500\u2500\u2500\u2500\u2500, \u2500\u2500\u2500\u2500\u2500\u2500\u2500\u2500\u2500\u2500, 0, \u2500\u2500\u2500\u2500\u2500\u2500\u2500\u2500\u2500\u2500, \u2500\u2500\u2500\u2500\u2500\u2500\u2500\u2500\u2500\u2500\u23a5, \u23a20, \u2500\u2500\u2500\u2500\u2500\u2500\u2500\u2500\u2500\u2500, \u2500\u2500\u2500\u2500\u2500\n",
        "\u23a3\u23a3       27          27             27          27    \u23a6  \u23a3       27           \n",
        "\n",
        "___  3           ___  3       ___  3\u23a4                    \u23a4\n",
        " 3 \u22c5\u03c0       -4\u22c5\u2572\u2571 3 \u22c5\u03c0    5\u22c5\u2572\u2571 3 \u22c5\u03c0 \u23a5                    \u23a5\n",
        "\u2500\u2500\u2500\u2500\u2500\u2500\u2500, 0, \u2500\u2500\u2500\u2500\u2500\u2500\u2500\u2500\u2500\u2500\u2500\u2500, \u2500\u2500\u2500\u2500\u2500\u2500\u2500\u2500\u2500\u2500\u23a5, [0, 0, 0, 0, 0, 0]\u23a5\n",
        "27               27           27    \u23a6                    \u23a6"
       ]
      },
      {
       "latex": [
        "$$\\begin{bmatrix}\\frac{2 \\sqrt{3}}{9} \\pi^{3}, & \\frac{2 \\sqrt{3}}{81} \\pi^{3}, & 0\\end{bmatrix}$$"
       ],
       "metadata": {},
       "output_type": "display_data",
       "text": [
        "\u23a1    ___  3      ___  3   \u23a4\n",
        "\u23a22\u22c5\u2572\u2571 3 \u22c5\u03c0   2\u22c5\u2572\u2571 3 \u22c5\u03c0    \u23a5\n",
        "\u23a2\u2500\u2500\u2500\u2500\u2500\u2500\u2500\u2500\u2500\u2500, \u2500\u2500\u2500\u2500\u2500\u2500\u2500\u2500\u2500\u2500, 0\u23a5\n",
        "\u23a3    9           81       \u23a6"
       ]
      }
     ],
     "prompt_number": 26
    },
    {
     "cell_type": "code",
     "collapsed": false,
     "input": [
      "plot1 = plot((x-pi)*x*(x-2*pi),(x, 0, 2*pi), show=False)\n",
      "plot1.extend(plot(bk[0]*sin(x)+bk[1]*sin(2*x), (x, 0, 2*pi), show=False, line_color='r'))\n",
      "plot1.extend(plot(bk[0]*sin(x), (x, 0, 2*pi), show=False, line_color='g'))\n",
      "plot1.extend(plot(bk[1]*sin(2*x), (x, 0, 2*pi), show=False, line_color='y'))\n",
      "plot1.show()"
     ],
     "language": "python",
     "metadata": {},
     "outputs": [
      {
       "metadata": {},
       "output_type": "display_data",
       "png": "[encoded data removed]",
       "text": [
        "<matplotlib.figure.Figure at 0x7f661f0ec250>"
       ]
      }
     ],
     "prompt_number": 27
    },
    {
     "cell_type": "code",
     "collapsed": true,
     "input": [
      "simplify(integrate(1/pi * x * (x-pi) * (x-2*pi) * cos(k*x), (x, 0, 2*pi)))"
     ],
     "language": "python",
     "metadata": {},
     "outputs": [
      {
       "latex": [
        "$$0$$"
       ],
       "metadata": {},
       "output_type": "pyout",
       "png": "[encoded data removed]",
       "prompt_number": 28,
       "text": [
        "0"
       ]
      }
     ],
     "prompt_number": 28
    },
    {
     "cell_type": "code",
     "collapsed": false,
     "input": [
      "simplify(integrate(1/pi * x * (x-pi) * (x-2*pi) * sin(k*x), (x, 0, 2*pi)))"
     ],
     "language": "python",
     "metadata": {},
     "outputs": [
      {
       "latex": [
        "$$\\frac{12}{k^{3}}$$"
       ],
       "metadata": {},
       "output_type": "pyout",
       "png": "[encoded data removed]",
       "prompt_number": 29,
       "text": [
        "12\n",
        "\u2500\u2500\n",
        " 3\n",
        "k "
       ]
      }
     ],
     "prompt_number": 29
    },
    {
     "cell_type": "code",
     "collapsed": false,
     "input": [
      "[N(bk[j]) for j in range(3)]"
     ],
     "language": "python",
     "metadata": {},
     "outputs": [
      {
       "latex": [
        "$$\\begin{bmatrix}11.9343214586261, & 1.32603571762512, & 0\\end{bmatrix}$$"
       ],
       "metadata": {},
       "output_type": "pyout",
       "prompt_number": 30,
       "text": [
        "[11.9343214586261, 1.32603571762512, 0]"
       ]
      }
     ],
     "prompt_number": 30
    },
    {
     "cell_type": "code",
     "collapsed": false,
     "input": [
      "[12/(j**3) for j in range(1, 4)]"
     ],
     "language": "python",
     "metadata": {},
     "outputs": [
      {
       "latex": [
        "$$\\begin{bmatrix}12.0, & 1.5, & 0.4444444444444444\\end{bmatrix}$$"
       ],
       "metadata": {},
       "output_type": "pyout",
       "prompt_number": 31,
       "text": [
        "[12.0, 1.5, 0.4444444444444444]"
       ]
      }
     ],
     "prompt_number": 31
    }
   ],
   "metadata": {}
  }
 ]
}