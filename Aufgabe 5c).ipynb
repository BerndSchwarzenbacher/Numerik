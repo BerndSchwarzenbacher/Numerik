{
 "metadata": {
  "name": "",
  "signature": "sha256:a84f45384a64822af782e300ee4c907f1c7bd9b14042e16e9dfe149cf9f462b0"
 },
 "nbformat": 3,
 "nbformat_minor": 0,
 "worksheets": [
  {
   "cells": [
    {
     "cell_type": "code",
     "collapsed": false,
     "input": [
      "%matplotlib inline\n",
      "from sympy import *\n",
      "init_printing()"
     ],
     "language": "python",
     "metadata": {},
     "outputs": [],
     "prompt_number": 1
    },
    {
     "cell_type": "code",
     "collapsed": false,
     "input": [
      "x = symbols('x')\n",
      "f = sqrt(1+x) - sqrt(1-x)\n",
      "f"
     ],
     "language": "python",
     "metadata": {},
     "outputs": [
      {
       "latex": [
        "$$- \\sqrt{- x + 1} + \\sqrt{x + 1}$$"
       ],
       "metadata": {},
       "output_type": "pyout",
       "png": "[encoded data removed]",
       "prompt_number": 2,
       "text": [
        "    ________     _______\n",
        "- \u2572\u2571 -x + 1  + \u2572\u2571 x + 1 "
       ]
      }
     ],
     "prompt_number": 2
    },
    {
     "cell_type": "code",
     "collapsed": false,
     "input": [
      "f_strich = simplify(diff(f, x))\n",
      "f_strich"
     ],
     "language": "python",
     "metadata": {},
     "outputs": [
      {
       "latex": [
        "$$\\frac{1}{2 \\sqrt{x + 1}} + \\frac{1}{2 \\sqrt{- x + 1}}$$"
       ],
       "metadata": {},
       "output_type": "pyout",
       "png": "[encoded data removed]",
       "prompt_number": 3,
       "text": [
        "     1             1      \n",
        "\u2500\u2500\u2500\u2500\u2500\u2500\u2500\u2500\u2500\u2500\u2500 + \u2500\u2500\u2500\u2500\u2500\u2500\u2500\u2500\u2500\u2500\u2500\u2500\n",
        "    _______       ________\n",
        "2\u22c5\u2572\u2571 x + 1    2\u22c5\u2572\u2571 -x + 1 "
       ]
      }
     ],
     "prompt_number": 3
    },
    {
     "cell_type": "code",
     "collapsed": false,
     "input": [
      "krel = Abs(expand(f_strich * x / f))\n",
      "krel"
     ],
     "language": "python",
     "metadata": {},
     "outputs": [
      {
       "output_type": "stream",
       "stream": "stderr",
       "text": [
        "/usr/lib/python3.3/site-packages/IPython/core/formatters.py:239: FormatterWarning: Exception in image/png formatter: \n",
        "\\left\\lvert{\\frac{x}{2 x + 2 \\sqrt{- x + 1} \\sqrt{x + 1} - 2} + \\frac{x}{2 x - 2 \\sqrt{- x + 1} \\sqrt{x + 1} + 2}}\\right\\rvert\n",
        "     ^\n",
        "Expected a delimiter (at char 5), (line:1, col:6)\n",
        "  FormatterWarning,\n"
       ]
      },
      {
       "latex": [
        "$$\\left\\lvert{\\frac{x}{2 x + 2 \\sqrt{- x + 1} \\sqrt{x + 1} - 2} + \\frac{x}{2 x - 2 \\sqrt{- x + 1} \\sqrt{x + 1} + 2}}\\right\\rvert$$"
       ],
       "metadata": {},
       "output_type": "pyout",
       "prompt_number": 10,
       "text": [
        "\u2502               x                                  x                \u2502\n",
        "\u2502\u2500\u2500\u2500\u2500\u2500\u2500\u2500\u2500\u2500\u2500\u2500\u2500\u2500\u2500\u2500\u2500\u2500\u2500\u2500\u2500\u2500\u2500\u2500\u2500\u2500\u2500\u2500\u2500\u2500\u2500\u2500\u2500 + \u2500\u2500\u2500\u2500\u2500\u2500\u2500\u2500\u2500\u2500\u2500\u2500\u2500\u2500\u2500\u2500\u2500\u2500\u2500\u2500\u2500\u2500\u2500\u2500\u2500\u2500\u2500\u2500\u2500\u2500\u2500\u2500\u2502\n",
        "\u2502          ________   _______                 ________   _______    \u2502\n",
        "\u25022\u22c5x + 2\u22c5\u2572\u2571 -x + 1 \u22c5\u2572\u2571 x + 1  - 2   2\u22c5x - 2\u22c5\u2572\u2571 -x + 1 \u22c5\u2572\u2571 x + 1  + 2\u2502"
       ]
      }
     ],
     "prompt_number": 10
    },
    {
     "cell_type": "code",
     "collapsed": false,
     "input": [
      "krel_daniel = x**2 / 2 * 1 / (sqrt(1-x**2)-(1-x**2))\n",
      "krel_daniel"
     ],
     "language": "python",
     "metadata": {},
     "outputs": [
      {
       "latex": [
        "$$\\frac{x^{2}}{2 x^{2} + 2 \\sqrt{- x^{2} + 1} - 2}$$"
       ],
       "metadata": {},
       "output_type": "pyout",
       "png": "[encoded data removed]",
       "prompt_number": 11,
       "text": [
        "             2            \n",
        "            x             \n",
        "\u2500\u2500\u2500\u2500\u2500\u2500\u2500\u2500\u2500\u2500\u2500\u2500\u2500\u2500\u2500\u2500\u2500\u2500\u2500\u2500\u2500\u2500\u2500\u2500\u2500\u2500\n",
        "  \u239b        __________    \u239e\n",
        "  \u239c 2     \u2571    2         \u239f\n",
        "2\u22c5\u239dx  + \u2572\u2571  - x  + 1  - 1\u23a0"
       ]
      }
     ],
     "prompt_number": 11
    },
    {
     "cell_type": "code",
     "collapsed": false,
     "input": [
      "simplify(krel_daniel-krel)"
     ],
     "language": "python",
     "metadata": {},
     "outputs": [
      {
       "output_type": "stream",
       "stream": "stderr",
       "text": [
        "/usr/lib/python3.3/site-packages/IPython/core/formatters.py:239: FormatterWarning: Exception in image/png formatter: \n",
        "\\frac{1}{x^{2} + \\sqrt{- x^{2} + 1} - 1} \\left(x^{2} / 2 - \\left(x^{2} + \\sqrt{- x^{2} + 1} - 1\\right) \\left\\lvert{\\frac{x^{2}}{\\left(x - \\sqrt{- x + 1} \\sqrt{x + 1} + 1\\right) \\left(x + \\sqrt{- x + 1} \\sqrt{x + 1} - 1\\right)}}\\right\\rvert\\right)\n",
        "                                                                                                            ^\n",
        "Expected a delimiter (at char 108), (line:1, col:109)\n",
        "  FormatterWarning,\n"
       ]
      },
      {
       "latex": [
        "$$\\frac{1}{x^{2} + \\sqrt{- x^{2} + 1} - 1} \\left(\\frac{x^{2}}{2} - \\left(x^{2} + \\sqrt{- x^{2} + 1} - 1\\right) \\left\\lvert{\\frac{x^{2}}{\\left(x - \\sqrt{- x + 1} \\sqrt{x + 1} + 1\\right) \\left(x + \\sqrt{- x + 1} \\sqrt{x + 1} - 1\\right)}}\\right\\rvert\\right)$$"
       ],
       "metadata": {},
       "output_type": "pyout",
       "prompt_number": 13,
       "text": [
        " 2   \u239b        __________    \u239e \u2502                               2               \n",
        "x    \u239c 2     \u2571    2         \u239f \u2502                              x                \n",
        "\u2500\u2500 - \u239dx  + \u2572\u2571  - x  + 1  - 1\u23a0\u22c5\u2502\u2500\u2500\u2500\u2500\u2500\u2500\u2500\u2500\u2500\u2500\u2500\u2500\u2500\u2500\u2500\u2500\u2500\u2500\u2500\u2500\u2500\u2500\u2500\u2500\u2500\u2500\u2500\u2500\u2500\u2500\u2500\u2500\u2500\u2500\u2500\u2500\u2500\u2500\u2500\u2500\u2500\u2500\u2500\u2500\u2500\u2500\u2500\n",
        "2                             \u2502\u239b      ________   _______    \u239e \u239b      ________ \n",
        "                              \u2502\u239dx - \u2572\u2571 -x + 1 \u22c5\u2572\u2571 x + 1  + 1\u23a0\u22c5\u239dx + \u2572\u2571 -x + 1 \u22c5\n",
        "\u2500\u2500\u2500\u2500\u2500\u2500\u2500\u2500\u2500\u2500\u2500\u2500\u2500\u2500\u2500\u2500\u2500\u2500\u2500\u2500\u2500\u2500\u2500\u2500\u2500\u2500\u2500\u2500\u2500\u2500\u2500\u2500\u2500\u2500\u2500\u2500\u2500\u2500\u2500\u2500\u2500\u2500\u2500\u2500\u2500\u2500\u2500\u2500\u2500\u2500\u2500\u2500\u2500\u2500\u2500\u2500\u2500\u2500\u2500\u2500\u2500\u2500\u2500\u2500\u2500\u2500\u2500\u2500\u2500\u2500\u2500\u2500\u2500\u2500\u2500\u2500\u2500\u2500\n",
        "                                            __________                        \n",
        "                                     2     \u2571    2                             \n",
        "                                    x  + \u2572\u2571  - x  + 1  - 1                    \n",
        "\n",
        "              \u2502\n",
        "              \u2502\n",
        "\u2500\u2500\u2500\u2500\u2500\u2500\u2500\u2500\u2500\u2500\u2500\u2500\u2500\u2500\u2502\n",
        "  _______    \u239e\u2502\n",
        "\u2572\u2571 x + 1  - 1\u23a0\u2502\n",
        "\u2500\u2500\u2500\u2500\u2500\u2500\u2500\u2500\u2500\u2500\u2500\u2500\u2500\u2500\u2500\n",
        "               \n",
        "               \n",
        "               "
       ]
      }
     ],
     "prompt_number": 13
    },
    {
     "cell_type": "code",
     "collapsed": false,
     "input": [
      "plot(krel, (x, -1/2, 1/2))"
     ],
     "language": "python",
     "metadata": {},
     "outputs": [
      {
       "metadata": {},
       "output_type": "display_data",
       "png": "[encoded data removed]",
       "text": [
        "<matplotlib.figure.Figure at 0x7f9b36b64d90>"
       ]
      },
      {
       "metadata": {},
       "output_type": "pyout",
       "prompt_number": 7,
       "text": [
        "<sympy.plotting.plot.Plot at 0x7f9b36d121d0>"
       ]
      }
     ],
     "prompt_number": 7
    },
    {
     "cell_type": "code",
     "collapsed": false,
     "input": [
      "plot(krel_daniel, (x, -1/2, 1/2))"
     ],
     "language": "python",
     "metadata": {},
     "outputs": [
      {
       "metadata": {},
       "output_type": "display_data",
       "png": "[encoded data removed]",
       "text": [
        "<matplotlib.figure.Figure at 0x7f9b36a6d4d0>"
       ]
      },
      {
       "metadata": {},
       "output_type": "pyout",
       "prompt_number": 8,
       "text": [
        "<sympy.plotting.plot.Plot at 0x7f9b36a6dd50>"
       ]
      }
     ],
     "prompt_number": 8
    },
    {
     "cell_type": "code",
     "collapsed": false,
     "input": [],
     "language": "python",
     "metadata": {},
     "outputs": []
    }
   ],
   "metadata": {}
  }
 ]
}