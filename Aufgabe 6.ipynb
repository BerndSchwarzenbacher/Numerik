{
 "metadata": {
  "name": "",
  "signature": "sha256:66c3cf177430ace409485bf4fee09aad65b3f414e2e961df66b71269e9de9b35"
 },
 "nbformat": 3,
 "nbformat_minor": 0,
 "worksheets": [
  {
   "cells": [
    {
     "cell_type": "heading",
     "level": 1,
     "metadata": {},
     "source": [
      "Aufgabe 6) b"
     ]
    },
    {
     "cell_type": "code",
     "collapsed": false,
     "input": [
      "from IPython.display import display\n",
      "from sympy import *\n",
      "from sympy.abc import x, a, k, n\n",
      "init_printing()"
     ],
     "language": "python",
     "metadata": {},
     "outputs": [],
     "prompt_number": 1
    },
    {
     "cell_type": "code",
     "collapsed": false,
     "input": [
      "eps = 1.1921 * 10**(-7)\n",
      "x0 = 0.707107\n",
      "a4, a3, a2, a1, a0 = 8118, -11482, 1, 5741, -2030"
     ],
     "language": "python",
     "metadata": {},
     "outputs": [],
     "prompt_number": 9
    },
    {
     "cell_type": "code",
     "collapsed": false,
     "input": [
      "p = a4 * x**4 + a3 * x**3 + a2 * x**2 + a1 * x + a0\n",
      "p2 = 8118 * x**4 - 11482 * x**3 + x**2 + 5741 * x -2030\n",
      "display(p)"
     ],
     "language": "python",
     "metadata": {},
     "outputs": [
      {
       "latex": [
        "$$8118 x^{4} - 11482 x^{3} + x^{2} + 5741 x - 2030$$"
       ],
       "metadata": {},
       "output_type": "display_data",
       "png": "[encoded data removed]",
       "text": [
        "      4          3    2                \n",
        "8118\u22c5x  - 11482\u22c5x  + x  + 5741\u22c5x - 2030"
       ]
      }
     ],
     "prompt_number": 32
    },
    {
     "cell_type": "code",
     "collapsed": false,
     "input": [
      "p.subs(x, x0)"
     ],
     "language": "python",
     "metadata": {},
     "outputs": [
      {
       "latex": [
        "$$-1.9759860414581 \\cdot 10^{-11}$$"
       ],
       "metadata": {},
       "output_type": "pyout",
       "png": "[encoded data removed]",
       "prompt_number": 12,
       "text": [
        "-1.97598604145810e-11"
       ]
      }
     ],
     "prompt_number": 12
    },
    {
     "cell_type": "code",
     "collapsed": false,
     "input": [
      "krel = simplify(p.diff(x)*x/p)\n",
      "display(krel)"
     ],
     "language": "python",
     "metadata": {},
     "outputs": [
      {
       "latex": [
        "$$\\frac{x \\left(32472 x^{3} - 34446 x^{2} + 2 x + 5741\\right)}{8118 x^{4} - 11482 x^{3} + x^{2} + 5741 x - 2030}$$"
       ],
       "metadata": {},
       "output_type": "display_data",
       "png": "[encoded data removed]",
       "text": [
        "    \u239b       3          2             \u239e \n",
        "  x\u22c5\u239d32472\u22c5x  - 34446\u22c5x  + 2\u22c5x + 5741\u23a0 \n",
        "\u2500\u2500\u2500\u2500\u2500\u2500\u2500\u2500\u2500\u2500\u2500\u2500\u2500\u2500\u2500\u2500\u2500\u2500\u2500\u2500\u2500\u2500\u2500\u2500\u2500\u2500\u2500\u2500\u2500\u2500\u2500\u2500\u2500\u2500\u2500\u2500\u2500\u2500\u2500\n",
        "      4          3    2                \n",
        "8118\u22c5x  - 11482\u22c5x  + x  + 5741\u22c5x - 2030"
       ]
      }
     ],
     "prompt_number": 13
    },
    {
     "cell_type": "code",
     "collapsed": false,
     "input": [
      "krel.subs(x, x0)"
     ],
     "language": "python",
     "metadata": {},
     "outputs": [
      {
       "latex": [
        "$$3147883.96324334$$"
       ],
       "metadata": {},
       "output_type": "pyout",
       "png": "[encoded data removed]",
       "prompt_number": 14,
       "text": [
        "3147883.96324334"
       ]
      }
     ],
     "prompt_number": 14
    },
    {
     "cell_type": "markdown",
     "metadata": {},
     "source": [
      "Die Auswertung an der Stelle x0 = 0.707107 ist also sehr schlecht konditioniert."
     ]
    },
    {
     "cell_type": "code",
     "collapsed": false,
     "input": [
      "e = symbols('epsilon')\n",
      "z4 = a4 * x0**4 * (1+e)\n",
      "z3 = a3 * x0**3 * (1+e)\n",
      "z2 = a2 * x0**2 * (1+e)\n",
      "z1 = a1 * x0\n",
      "z = ((((((z4+z3)*(1+e)) + z2)*(1+e))+z1)*(1+e)+a0)*(1+e)\n",
      "display(simplify(z))"
     ],
     "language": "python",
     "metadata": {},
     "outputs": [
      {
       "latex": [
        "$$\\left(\\epsilon + 1\\right) \\left(\\left(\\epsilon + 1\\right) \\left(\\left(\\epsilon + 1\\right) \\left(0.500000309449 \\epsilon - 2030.00128730947 \\left(\\epsilon + 1\\right)^{2} + 0.500000309449\\right) + 4059.501287\\right) - 2030\\right)$$"
       ],
       "metadata": {},
       "output_type": "display_data",
       "png": "[encoded data removed]",
       "text": [
        "        \u239b        \u239b        \u239b                                           2       \n",
        "(\u03b5 + 1)\u22c5\u239d(\u03b5 + 1)\u22c5\u239d(\u03b5 + 1)\u22c5\u239d0.500000309449\u22c5\u03b5 - 2030.00128730947\u22c5(\u03b5 + 1)  + 0.50\n",
        "\n",
        "          \u239e              \u239e       \u239e\n",
        "0000309449\u23a0 + 4059.501287\u23a0 - 2030\u23a0"
       ]
      }
     ],
     "prompt_number": 29
    },
    {
     "cell_type": "code",
     "collapsed": false,
     "input": [
      "z.subs(e, eps)"
     ],
     "language": "python",
     "metadata": {},
     "outputs": [
      {
       "latex": [
        "$$-0.000483874101221515$$"
       ],
       "metadata": {},
       "output_type": "pyout",
       "png": "[encoded data removed]",
       "prompt_number": 30,
       "text": [
        "-0.000483874101221515"
       ]
      }
     ],
     "prompt_number": 30
    },
    {
     "cell_type": "code",
     "collapsed": false,
     "input": [],
     "language": "python",
     "metadata": {},
     "outputs": []
    }
   ],
   "metadata": {}
  }
 ]
}