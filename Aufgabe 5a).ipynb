{
 "metadata": {
  "name": "",
  "signature": "sha256:b88f8e266d5147fe2cc7cbb797879a4544debbcc5113160a80f435441fea261a"
 },
 "nbformat": 3,
 "nbformat_minor": 0,
 "worksheets": [
  {
   "cells": [
    {
     "cell_type": "heading",
     "level": 1,
     "metadata": {},
     "source": [
      "Aufgabe 5a)"
     ]
    },
    {
     "cell_type": "code",
     "collapsed": false,
     "input": [
      "%matplotlib inline\n",
      "from sympy import *\n",
      "init_printing()"
     ],
     "language": "python",
     "metadata": {},
     "outputs": [],
     "prompt_number": 1
    },
    {
     "cell_type": "code",
     "collapsed": false,
     "input": [
      "x = symbols(\"x\")\n",
      "f = 1/(1+3*x)-(1-2*x)/(1+x)\n",
      "f"
     ],
     "language": "python",
     "metadata": {},
     "outputs": [
      {
       "latex": [
        "$$- \\frac{- 2 x + 1}{x + 1} + \\frac{1}{3 x + 1}$$"
       ],
       "metadata": {},
       "output_type": "pyout",
       "png": "[encoded data removed]",
       "prompt_number": 2,
       "text": [
        "  -2\u22c5x + 1      1   \n",
        "- \u2500\u2500\u2500\u2500\u2500\u2500\u2500\u2500 + \u2500\u2500\u2500\u2500\u2500\u2500\u2500\n",
        "   x + 1     3\u22c5x + 1"
       ]
      }
     ],
     "prompt_number": 2
    },
    {
     "cell_type": "code",
     "collapsed": false,
     "input": [
      "f_strich = diff(f, x)\n",
      "f_strich"
     ],
     "language": "python",
     "metadata": {},
     "outputs": [
      {
       "latex": [
        "$$\\frac{- 2 x + 1}{\\left(x + 1\\right)^{2}} - \\frac{3}{\\left(3 x + 1\\right)^{2}} + \\frac{2}{x + 1}$$"
       ],
       "metadata": {},
       "output_type": "pyout",
       "png": "[encoded data removed]",
       "prompt_number": 3,
       "text": [
        "-2\u22c5x + 1       3          2  \n",
        "\u2500\u2500\u2500\u2500\u2500\u2500\u2500\u2500 - \u2500\u2500\u2500\u2500\u2500\u2500\u2500\u2500\u2500\u2500 + \u2500\u2500\u2500\u2500\u2500\n",
        "       2            2   x + 1\n",
        "(x + 1)    (3\u22c5x + 1)         "
       ]
      }
     ],
     "prompt_number": 3
    },
    {
     "cell_type": "code",
     "collapsed": false,
     "input": [
      "krel = (f_strich*x/f)\n",
      "simplify(krel)"
     ],
     "language": "python",
     "metadata": {},
     "outputs": [
      {
       "latex": [
        "$$\\frac{4 x + 2}{3 x^{2} + 4 x + 1}$$"
       ],
       "metadata": {},
       "output_type": "pyout",
       "png": "[encoded data removed]",
       "prompt_number": 4,
       "text": [
        " 2\u22c5(2\u22c5x + 1)  \n",
        "\u2500\u2500\u2500\u2500\u2500\u2500\u2500\u2500\u2500\u2500\u2500\u2500\u2500\u2500\n",
        "   2          \n",
        "3\u22c5x  + 4\u22c5x + 1"
       ]
      }
     ],
     "prompt_number": 4
    },
    {
     "cell_type": "code",
     "collapsed": false,
     "input": [
      "plot(krel, (x, -1/4, 2))"
     ],
     "language": "python",
     "metadata": {},
     "outputs": [
      {
       "metadata": {},
       "output_type": "display_data",
       "png": "[encoded data removed]",
       "text": [
        "<matplotlib.figure.Figure at 0x7f870ab5ffd0>"
       ]
      },
      {
       "metadata": {},
       "output_type": "pyout",
       "prompt_number": 5,
       "text": [
        "<sympy.plotting.plot.Plot at 0x7f870ad22b10>"
       ]
      }
     ],
     "prompt_number": 5
    },
    {
     "cell_type": "markdown",
     "metadata": {},
     "source": [
      "Intervall ist kompakt und Krel(x) ist stetig, daraus folgt: Min/Max werden angenommen."
     ]
    },
    {
     "cell_type": "code",
     "collapsed": false,
     "input": [
      "krel_strich = simplify(diff(krel, x))\n",
      "krel_strich"
     ],
     "language": "python",
     "metadata": {},
     "outputs": [
      {
       "latex": [
        "$$- \\frac{12 x^{2} + 12 x + 4}{9 x^{4} + 24 x^{3} + 22 x^{2} + 8 x + 1}$$"
       ],
       "metadata": {},
       "output_type": "pyout",
       "png": "[encoded data removed]",
       "prompt_number": 6,
       "text": [
        "      \u239b    2           \u239e      \n",
        "     -\u239d12\u22c5x  + 12\u22c5x + 4\u23a0      \n",
        "\u2500\u2500\u2500\u2500\u2500\u2500\u2500\u2500\u2500\u2500\u2500\u2500\u2500\u2500\u2500\u2500\u2500\u2500\u2500\u2500\u2500\u2500\u2500\u2500\u2500\u2500\u2500\u2500\u2500\u2500\n",
        "   4       3       2          \n",
        "9\u22c5x  + 24\u22c5x  + 22\u22c5x  + 8\u22c5x + 1"
       ]
      }
     ],
     "prompt_number": 6
    },
    {
     "cell_type": "code",
     "collapsed": false,
     "input": [
      "solve(krel_strich, x)"
     ],
     "language": "python",
     "metadata": {},
     "outputs": [
      {
       "output_type": "stream",
       "stream": "stderr",
       "text": [
        "/usr/lib/python3.3/site-packages/IPython/core/formatters.py:239: FormatterWarning: Exception in image/png formatter: \n",
        "\\begin{bmatrix}- \\frac{1}{2} - \\sqrt{3} i / 6, & - \\frac{1}{2} + \\sqrt{3} i / 6\\end{bmatrix}\n",
        "^\n",
        "Unknown symbol: \\begin (at char 0), (line:1, col:1)\n",
        "  FormatterWarning,\n"
       ]
      },
      {
       "latex": [
        "$$\\begin{bmatrix}- \\frac{1}{2} - \\frac{\\sqrt{3} i}{6}, & - \\frac{1}{2} + \\frac{\\sqrt{3} i}{6}\\end{bmatrix}$$"
       ],
       "metadata": {},
       "output_type": "pyout",
       "prompt_number": 7,
       "text": [
        "\u23a1        ___            ___  \u23a4\n",
        "\u23a2  1   \u2572\u2571 3 \u22c5\u2148    1   \u2572\u2571 3 \u22c5\u2148\u23a5\n",
        "\u23a2- \u2500 - \u2500\u2500\u2500\u2500\u2500\u2500\u2500, - \u2500 + \u2500\u2500\u2500\u2500\u2500\u2500\u2500\u23a5\n",
        "\u23a3  2      6       2      6   \u23a6"
       ]
      }
     ],
     "prompt_number": 7
    },
    {
     "cell_type": "markdown",
     "metadata": {},
     "source": [
      "Krel'(x) hat also nur imagin\u00e4re Nullstellen, dass hei\u00dft, die Funktion ist immer positiv oder negativ. Also ist Krel(x) entweder fallend oder steigend (fallend wie im Plot zu sehen ist). Daher werden Min/Max an den Intervallgrenzen angenommen."
     ]
    },
    {
     "cell_type": "code",
     "collapsed": false,
     "input": [
      "krel.subs(x, 1/4)"
     ],
     "language": "python",
     "metadata": {},
     "outputs": [
      {
       "latex": [
        "$$1.37142857142857$$"
       ],
       "metadata": {},
       "output_type": "pyout",
       "png": "[encoded data removed]",
       "prompt_number": 10,
       "text": [
        "1.37142857142857"
       ]
      }
     ],
     "prompt_number": 10
    },
    {
     "cell_type": "code",
     "collapsed": false,
     "input": [
      "krel.subs(x, -1/4)"
     ],
     "language": "python",
     "metadata": {},
     "outputs": [
      {
       "latex": [
        "$$5.33333333333333$$"
       ],
       "metadata": {},
       "output_type": "pyout",
       "png": "[encoded data removed]",
       "prompt_number": 11,
       "text": [
        "5.33333333333333"
       ]
      }
     ],
     "prompt_number": 11
    },
    {
     "cell_type": "markdown",
     "metadata": {},
     "source": [
      "Die relative Konditionszahl bewegt sich also im Bereich 1.37 - 5.33. Somit ist das Problem gut konditioniert."
     ]
    }
   ],
   "metadata": {}
  }
 ]
}