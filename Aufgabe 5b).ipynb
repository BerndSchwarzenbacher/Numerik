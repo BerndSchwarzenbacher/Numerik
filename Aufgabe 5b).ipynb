{
 "metadata": {
  "name": "",
  "signature": "sha256:e47b6a9586795621c2853a594e8269516fc5d04802c083ac0b0ea5c9a076433e"
 },
 "nbformat": 3,
 "nbformat_minor": 0,
 "worksheets": [
  {
   "cells": [
    {
     "cell_type": "code",
     "collapsed": false,
     "input": [
      "%matplotlib inline\n",
      "from sympy import *\n",
      "init_printing()\n",
      "x = symbols('x')"
     ],
     "language": "python",
     "metadata": {},
     "outputs": [],
     "prompt_number": 7
    },
    {
     "cell_type": "code",
     "collapsed": false,
     "input": [
      "f = 1 - sqrt((1+x)/x)\n",
      "f"
     ],
     "language": "python",
     "metadata": {},
     "outputs": [
      {
       "latex": [
        "$$- \\sqrt{\\frac{1}{x} \\left(x + 1\\right)} + 1$$"
       ],
       "metadata": {},
       "output_type": "pyout",
       "png": "[encoded data removed]",
       "prompt_number": 8,
       "text": [
        "      _______    \n",
        "     \u2571 x + 1     \n",
        "-   \u2571  \u2500\u2500\u2500\u2500\u2500  + 1\n",
        "  \u2572\u2571     x       "
       ]
      }
     ],
     "prompt_number": 8
    },
    {
     "cell_type": "code",
     "collapsed": false,
     "input": [
      "plot(f, (x, 0, 1))"
     ],
     "language": "python",
     "metadata": {},
     "outputs": [
      {
       "metadata": {},
       "output_type": "display_data",
       "png": "[encoded data removed]",
       "text": [
        "<matplotlib.figure.Figure at 0x7fb28b34ef10>"
       ]
      },
      {
       "metadata": {},
       "output_type": "pyout",
       "prompt_number": 13,
       "text": [
        "<sympy.plotting.plot.Plot at 0x7fb28b4ba810>"
       ]
      }
     ],
     "prompt_number": 13
    },
    {
     "cell_type": "code",
     "collapsed": false,
     "input": [
      "f_strich = simplify(diff(f, x))\n",
      "f_strich"
     ],
     "language": "python",
     "metadata": {},
     "outputs": [
      {
       "latex": [
        "$$\\frac{\\sqrt{\\frac{1}{x} \\left(x + 1\\right)}}{2 x \\left(x + 1\\right)}$$"
       ],
       "metadata": {},
       "output_type": "pyout",
       "png": "[encoded data removed]",
       "prompt_number": 17,
       "text": [
        "    _______\n",
        "   \u2571 x + 1 \n",
        "  \u2571  \u2500\u2500\u2500\u2500\u2500 \n",
        "\u2572\u2571     x   \n",
        "\u2500\u2500\u2500\u2500\u2500\u2500\u2500\u2500\u2500\u2500\u2500\n",
        "2\u22c5x\u22c5(x + 1)"
       ]
      }
     ],
     "prompt_number": 17
    },
    {
     "cell_type": "code",
     "collapsed": false,
     "input": [
      "krel = Abs(simplify(f_strich * x / f))\n",
      "krel"
     ],
     "language": "python",
     "metadata": {},
     "outputs": [
      {
       "latex": [
        "$$\\frac{1}{2} \\left\\lvert{\\frac{\\sqrt{\\frac{1}{x} \\left(x + 1\\right)}}{\\left(x + 1\\right) \\left(\\sqrt{\\frac{1}{x} \\left(x + 1\\right)} - 1\\right)}}\\right\\rvert$$"
       ],
       "metadata": {},
       "output_type": "pyout",
       "prompt_number": 25,
       "text": [
        "\u2502           _______       \u2502\n",
        "\u2502          \u2571 x + 1        \u2502\n",
        "\u2502         \u2571  \u2500\u2500\u2500\u2500\u2500        \u2502\n",
        "\u2502       \u2572\u2571     x          \u2502\n",
        "\u2502\u2500\u2500\u2500\u2500\u2500\u2500\u2500\u2500\u2500\u2500\u2500\u2500\u2500\u2500\u2500\u2500\u2500\u2500\u2500\u2500\u2500\u2500\u2500\u2500\u2500\u2502\n",
        "\u2502        \u239b    _______    \u239e\u2502\n",
        "\u2502        \u239c   \u2571 x + 1     \u239f\u2502\n",
        "\u2502(x + 1)\u22c5\u239c  \u2571  \u2500\u2500\u2500\u2500\u2500  - 1\u239f\u2502\n",
        "\u2502        \u239d\u2572\u2571     x       \u23a0\u2502\n",
        "\u2500\u2500\u2500\u2500\u2500\u2500\u2500\u2500\u2500\u2500\u2500\u2500\u2500\u2500\u2500\u2500\u2500\u2500\u2500\u2500\u2500\u2500\u2500\u2500\u2500\u2500\u2500\n",
        "             2             "
       ]
      }
     ],
     "prompt_number": 25
    },
    {
     "cell_type": "code",
     "collapsed": false,
     "input": [
      "plot(krel, (x, 0, 10))"
     ],
     "language": "python",
     "metadata": {},
     "outputs": [
      {
       "metadata": {},
       "output_type": "display_data",
       "png": "[encoded data removed]",
       "text": [
        "<matplotlib.figure.Figure at 0x7fb28b1567d0>"
       ]
      },
      {
       "metadata": {},
       "output_type": "pyout",
       "prompt_number": 26,
       "text": [
        "<sympy.plotting.plot.Plot at 0x7fb28b156510>"
       ]
      }
     ],
     "prompt_number": 26
    },
    {
     "cell_type": "code",
     "collapsed": false,
     "input": [
      "krel_strich = simplify(diff(krel,x))\n",
      "krel_strich"
     ],
     "language": "python",
     "metadata": {},
     "outputs": [
      {
       "output_type": "stream",
       "stream": "stderr",
       "text": [
        "/usr/lib/python3.3/site-packages/IPython/core/formatters.py:239: FormatterWarning: Exception in image/png formatter: \n",
        "\\frac{1}{2 \\left\\lvert{\\frac{\\sqrt{\\left(x + 1\\right) / x}}{\\left(x + 1\\right) \\left(\\sqrt{\\left(x + 1\\right) / x} - 1\\right)}}\\right\\rvert} \\left(\\Re {\\left (\\frac{\\sqrt{\\left(x + 1\\right) / x}}{\\left(x + 1\\right) \\left(\\sqrt{\\left(x + 1\\right) / x} - 1\\right)} \\right )} \\frac{d}{d x} \\Re {\\left (\\frac{\\sqrt{\\left(x + 1\\right) / x}}{\\left(x + 1\\right) \\left(\\sqrt{\\left(x + 1\\right) / x} - 1\\right)} \\right )} + \\Im {\\left ( \\frac{\\sqrt{\\left(x + 1\\right) / x}}{\\left(x + 1\\right) \\left(\\sqrt{\\left(x + 1\\right) / x} - 1\\right)} \\right )} \\frac{d}{d x} \\Im {\\left ( \\frac{\\sqrt{\\left(x + 1\\right) / x}}{\\left(x + 1\\right) \\left(\\sqrt{\\left(x + 1\\right) / x} - 1\\right)} \\right )}\\right)\n",
        "                ^\n",
        "Expected a delimiter (at char 16), (line:1, col:17)\n",
        "  FormatterWarning,\n"
       ]
      },
      {
       "latex": [
        "$$\\frac{1}{2 \\left\\lvert{\\frac{\\sqrt{\\frac{1}{x} \\left(x + 1\\right)}}{\\left(x + 1\\right) \\left(\\sqrt{\\frac{1}{x} \\left(x + 1\\right)} - 1\\right)}}\\right\\rvert} \\left(\\Re {\\left (\\frac{\\sqrt{\\frac{1}{x} \\left(x + 1\\right)}}{\\left(x + 1\\right) \\left(\\sqrt{\\frac{1}{x} \\left(x + 1\\right)} - 1\\right)} \\right )} \\frac{d}{d x} \\Re {\\left (\\frac{\\sqrt{\\frac{1}{x} \\left(x + 1\\right)}}{\\left(x + 1\\right) \\left(\\sqrt{\\frac{1}{x} \\left(x + 1\\right)} - 1\\right)} \\right )} + \\Im {\\left ( \\frac{\\sqrt{\\frac{1}{x} \\left(x + 1\\right)}}{\\left(x + 1\\right) \\left(\\sqrt{\\frac{1}{x} \\left(x + 1\\right)} - 1\\right)} \\right )} \\frac{d}{d x} \\Im {\\left ( \\frac{\\sqrt{\\frac{1}{x} \\left(x + 1\\right)}}{\\left(x + 1\\right) \\left(\\sqrt{\\frac{1}{x} \\left(x + 1\\right)} - 1\\right)} \\right )}\\right)$$"
       ],
       "metadata": {},
       "output_type": "pyout",
       "prompt_number": 29,
       "text": [
        "  \u239b           _______       \u239e   \u239b  \u239b           _______       \u239e\u239e     \u239b         \n",
        "  \u239c          \u2571 x + 1        \u239f   \u239c  \u239c          \u2571 x + 1        \u239f\u239f     \u239c         \n",
        "  \u239c         \u2571  \u2500\u2500\u2500\u2500\u2500        \u239f   \u239c  \u239c         \u2571  \u2500\u2500\u2500\u2500\u2500        \u239f\u239f     \u239c         \n",
        "  \u239c       \u2572\u2571     x          \u239f d \u239c  \u239c       \u2572\u2571     x          \u239f\u239f     \u239c       \u2572\u2571\n",
        "  \u239c\u2500\u2500\u2500\u2500\u2500\u2500\u2500\u2500\u2500\u2500\u2500\u2500\u2500\u2500\u2500\u2500\u2500\u2500\u2500\u2500\u2500\u2500\u2500\u2500\u2500\u239f\u22c5\u2500\u2500\u239c  \u239c\u2500\u2500\u2500\u2500\u2500\u2500\u2500\u2500\u2500\u2500\u2500\u2500\u2500\u2500\u2500\u2500\u2500\u2500\u2500\u2500\u2500\u2500\u2500\u2500\u2500\u239f\u239f +   \u239c\u2500\u2500\u2500\u2500\u2500\u2500\u2500\u2500\u2500\n",
        "  \u239c        \u239b    _______    \u239e\u239f dx\u239c  \u239c        \u239b    _______    \u239e\u239f\u239f     \u239c        \u239b\n",
        "  \u239c        \u239c   \u2571 x + 1     \u239f\u239f   \u239c  \u239c        \u239c   \u2571 x + 1     \u239f\u239f\u239f     \u239c        \u239c\n",
        "re\u239c(x + 1)\u22c5\u239c  \u2571  \u2500\u2500\u2500\u2500\u2500  - 1\u239f\u239f   \u239cre\u239c(x + 1)\u22c5\u239c  \u2571  \u2500\u2500\u2500\u2500\u2500  - 1\u239f\u239f\u239f   im\u239c(x + 1)\u22c5\u239c\n",
        "  \u239d        \u239d\u2572\u2571     x       \u23a0\u23a0   \u239d  \u239d        \u239d\u2572\u2571     x       \u23a0\u23a0\u23a0     \u239d        \u239d\n",
        "\u2500\u2500\u2500\u2500\u2500\u2500\u2500\u2500\u2500\u2500\u2500\u2500\u2500\u2500\u2500\u2500\u2500\u2500\u2500\u2500\u2500\u2500\u2500\u2500\u2500\u2500\u2500\u2500\u2500\u2500\u2500\u2500\u2500\u2500\u2500\u2500\u2500\u2500\u2500\u2500\u2500\u2500\u2500\u2500\u2500\u2500\u2500\u2500\u2500\u2500\u2500\u2500\u2500\u2500\u2500\u2500\u2500\u2500\u2500\u2500\u2500\u2500\u2500\u2500\u2500\u2500\u2500\u2500\u2500\u2500\u2500\u2500\u2500\u2500\u2500\u2500\u2500\u2500\n",
        "                                                    \u2502           _______       \n",
        "                                                    \u2502          \u2571 x + 1        \n",
        "                                                    \u2502         \u2571  \u2500\u2500\u2500\u2500\u2500        \n",
        "                                                    \u2502       \u2572\u2571     x          \n",
        "                                                  2\u22c5\u2502\u2500\u2500\u2500\u2500\u2500\u2500\u2500\u2500\u2500\u2500\u2500\u2500\u2500\u2500\u2500\u2500\u2500\u2500\u2500\u2500\u2500\u2500\u2500\u2500\u2500\n",
        "                                                    \u2502        \u239b    _______    \u239e\n",
        "                                                    \u2502        \u239c   \u2571 x + 1     \u239f\n",
        "                                                    \u2502(x + 1)\u22c5\u239c  \u2571  \u2500\u2500\u2500\u2500\u2500  - 1\u239f\n",
        "                                                    \u2502        \u239d\u2572\u2571     x       \u23a0\n",
        "\n",
        "  _______       \u239e   \u239b  \u239b           _______       \u239e\u239e\n",
        " \u2571 x + 1        \u239f   \u239c  \u239c          \u2571 x + 1        \u239f\u239f\n",
        "\u2571  \u2500\u2500\u2500\u2500\u2500        \u239f   \u239c  \u239c         \u2571  \u2500\u2500\u2500\u2500\u2500        \u239f\u239f\n",
        "     x          \u239f d \u239c  \u239c       \u2572\u2571     x          \u239f\u239f\n",
        "\u2500\u2500\u2500\u2500\u2500\u2500\u2500\u2500\u2500\u2500\u2500\u2500\u2500\u2500\u2500\u2500\u239f\u22c5\u2500\u2500\u239c  \u239c\u2500\u2500\u2500\u2500\u2500\u2500\u2500\u2500\u2500\u2500\u2500\u2500\u2500\u2500\u2500\u2500\u2500\u2500\u2500\u2500\u2500\u2500\u2500\u2500\u2500\u239f\u239f\n",
        "    _______    \u239e\u239f dx\u239c  \u239c        \u239b    _______    \u239e\u239f\u239f\n",
        "   \u2571 x + 1     \u239f\u239f   \u239c  \u239c        \u239c   \u2571 x + 1     \u239f\u239f\u239f\n",
        "  \u2571  \u2500\u2500\u2500\u2500\u2500  - 1\u239f\u239f   \u239cim\u239c(x + 1)\u22c5\u239c  \u2571  \u2500\u2500\u2500\u2500\u2500  - 1\u239f\u239f\u239f\n",
        "\u2572\u2571     x       \u23a0\u23a0   \u239d  \u239d        \u239d\u2572\u2571     x       \u23a0\u23a0\u23a0\n",
        "\u2500\u2500\u2500\u2500\u2500\u2500\u2500\u2500\u2500\u2500\u2500\u2500\u2500\u2500\u2500\u2500\u2500\u2500\u2500\u2500\u2500\u2500\u2500\u2500\u2500\u2500\u2500\u2500\u2500\u2500\u2500\u2500\u2500\u2500\u2500\u2500\u2500\u2500\u2500\u2500\u2500\u2500\u2500\u2500\u2500\u2500\u2500\u2500\u2500\u2500\u2500\n",
        "\u2502                                                  \n",
        "\u2502                                                  \n",
        "\u2502                                                  \n",
        "\u2502                                                  \n",
        "\u2502                                                  \n",
        "\u2502                                                  \n",
        "\u2502                                                  \n",
        "\u2502                                                  \n",
        "\u2502                                                  "
       ]
      }
     ],
     "prompt_number": 29
    },
    {
     "cell_type": "code",
     "collapsed": false,
     "input": [],
     "language": "python",
     "metadata": {},
     "outputs": [
      {
       "ename": "ValueError",
       "evalue": "\nCan't differentiate wrt the variable: 10.0000000000000, 1",
       "output_type": "pyerr",
       "traceback": [
        "\u001b[1;31m---------------------------------------------------------------------------\u001b[0m\n\u001b[1;31mValueError\u001b[0m                                Traceback (most recent call last)",
        "\u001b[1;32m<ipython-input-30-bbdb70f115dc>\u001b[0m in \u001b[0;36m<module>\u001b[1;34m()\u001b[0m\n\u001b[1;32m----> 1\u001b[1;33m \u001b[0mplot\u001b[0m\u001b[1;33m(\u001b[0m\u001b[0mkrel_strich\u001b[0m\u001b[1;33m,\u001b[0m \u001b[1;33m(\u001b[0m\u001b[0mx\u001b[0m\u001b[1;33m,\u001b[0m \u001b[1;36m0\u001b[0m\u001b[1;33m,\u001b[0m \u001b[1;36m10\u001b[0m\u001b[1;33m)\u001b[0m\u001b[1;33m)\u001b[0m\u001b[1;33m\u001b[0m\u001b[0m\n\u001b[0m",
        "\u001b[1;32m/usr/lib/python3.3/site-packages/sympy/plotting/plot.py\u001b[0m in \u001b[0;36mplot\u001b[1;34m(*args, **kwargs)\u001b[0m\n\u001b[0;32m   1214\u001b[0m     \u001b[0mplots\u001b[0m \u001b[1;33m=\u001b[0m \u001b[0mPlot\u001b[0m\u001b[1;33m(\u001b[0m\u001b[1;33m*\u001b[0m\u001b[0mseries\u001b[0m\u001b[1;33m,\u001b[0m \u001b[1;33m**\u001b[0m\u001b[0mkwargs\u001b[0m\u001b[1;33m)\u001b[0m\u001b[1;33m\u001b[0m\u001b[0m\n\u001b[0;32m   1215\u001b[0m     \u001b[1;32mif\u001b[0m \u001b[0mshow\u001b[0m\u001b[1;33m:\u001b[0m\u001b[1;33m\u001b[0m\u001b[0m\n\u001b[1;32m-> 1216\u001b[1;33m         \u001b[0mplots\u001b[0m\u001b[1;33m.\u001b[0m\u001b[0mshow\u001b[0m\u001b[1;33m(\u001b[0m\u001b[1;33m)\u001b[0m\u001b[1;33m\u001b[0m\u001b[0m\n\u001b[0m\u001b[0;32m   1217\u001b[0m     \u001b[1;32mreturn\u001b[0m \u001b[0mplots\u001b[0m\u001b[1;33m\u001b[0m\u001b[0m\n\u001b[0;32m   1218\u001b[0m \u001b[1;33m\u001b[0m\u001b[0m\n",
        "\u001b[1;32m/usr/lib/python3.3/site-packages/sympy/plotting/plot.py\u001b[0m in \u001b[0;36mshow\u001b[1;34m(self)\u001b[0m\n\u001b[0;32m    182\u001b[0m             \u001b[0mself\u001b[0m\u001b[1;33m.\u001b[0m\u001b[0m_backend\u001b[0m\u001b[1;33m.\u001b[0m\u001b[0mclose\u001b[0m\u001b[1;33m(\u001b[0m\u001b[1;33m)\u001b[0m\u001b[1;33m\u001b[0m\u001b[0m\n\u001b[0;32m    183\u001b[0m         \u001b[0mself\u001b[0m\u001b[1;33m.\u001b[0m\u001b[0m_backend\u001b[0m \u001b[1;33m=\u001b[0m \u001b[0mself\u001b[0m\u001b[1;33m.\u001b[0m\u001b[0mbackend\u001b[0m\u001b[1;33m(\u001b[0m\u001b[0mself\u001b[0m\u001b[1;33m)\u001b[0m\u001b[1;33m\u001b[0m\u001b[0m\n\u001b[1;32m--> 184\u001b[1;33m         \u001b[0mself\u001b[0m\u001b[1;33m.\u001b[0m\u001b[0m_backend\u001b[0m\u001b[1;33m.\u001b[0m\u001b[0mshow\u001b[0m\u001b[1;33m(\u001b[0m\u001b[1;33m)\u001b[0m\u001b[1;33m\u001b[0m\u001b[0m\n\u001b[0m\u001b[0;32m    185\u001b[0m \u001b[1;33m\u001b[0m\u001b[0m\n\u001b[0;32m    186\u001b[0m     \u001b[1;32mdef\u001b[0m \u001b[0msave\u001b[0m\u001b[1;33m(\u001b[0m\u001b[0mself\u001b[0m\u001b[1;33m,\u001b[0m \u001b[0mpath\u001b[0m\u001b[1;33m)\u001b[0m\u001b[1;33m:\u001b[0m\u001b[1;33m\u001b[0m\u001b[0m\n",
        "\u001b[1;32m/usr/lib/python3.3/site-packages/sympy/plotting/plot.py\u001b[0m in \u001b[0;36mshow\u001b[1;34m(self)\u001b[0m\n\u001b[0;32m    963\u001b[0m \u001b[1;33m\u001b[0m\u001b[0m\n\u001b[0;32m    964\u001b[0m     \u001b[1;32mdef\u001b[0m \u001b[0mshow\u001b[0m\u001b[1;33m(\u001b[0m\u001b[0mself\u001b[0m\u001b[1;33m)\u001b[0m\u001b[1;33m:\u001b[0m\u001b[1;33m\u001b[0m\u001b[0m\n\u001b[1;32m--> 965\u001b[1;33m         \u001b[0mself\u001b[0m\u001b[1;33m.\u001b[0m\u001b[0mprocess_series\u001b[0m\u001b[1;33m(\u001b[0m\u001b[1;33m)\u001b[0m\u001b[1;33m\u001b[0m\u001b[0m\n\u001b[0m\u001b[0;32m    966\u001b[0m         \u001b[1;31m#TODO after fixing https://github.com/ipython/ipython/issues/1255\u001b[0m\u001b[1;33m\u001b[0m\u001b[1;33m\u001b[0m\u001b[0m\n\u001b[0;32m    967\u001b[0m         \u001b[1;31m# you can uncomment the next line and remove the pyplot.show() call\u001b[0m\u001b[1;33m\u001b[0m\u001b[1;33m\u001b[0m\u001b[0m\n",
        "\u001b[1;32m/usr/lib/python3.3/site-packages/sympy/plotting/plot.py\u001b[0m in \u001b[0;36mprocess_series\u001b[1;34m(self)\u001b[0m\n\u001b[0;32m    847\u001b[0m             \u001b[1;31m# Create the collections\u001b[0m\u001b[1;33m\u001b[0m\u001b[1;33m\u001b[0m\u001b[0m\n\u001b[0;32m    848\u001b[0m             \u001b[1;32mif\u001b[0m \u001b[0ms\u001b[0m\u001b[1;33m.\u001b[0m\u001b[0mis_2Dline\u001b[0m\u001b[1;33m:\u001b[0m\u001b[1;33m\u001b[0m\u001b[0m\n\u001b[1;32m--> 849\u001b[1;33m                 \u001b[0mcollection\u001b[0m \u001b[1;33m=\u001b[0m \u001b[0mself\u001b[0m\u001b[1;33m.\u001b[0m\u001b[0mLineCollection\u001b[0m\u001b[1;33m(\u001b[0m\u001b[0ms\u001b[0m\u001b[1;33m.\u001b[0m\u001b[0mget_segments\u001b[0m\u001b[1;33m(\u001b[0m\u001b[1;33m)\u001b[0m\u001b[1;33m)\u001b[0m\u001b[1;33m\u001b[0m\u001b[0m\n\u001b[0m\u001b[0;32m    850\u001b[0m                 \u001b[0mself\u001b[0m\u001b[1;33m.\u001b[0m\u001b[0max\u001b[0m\u001b[1;33m.\u001b[0m\u001b[0madd_collection\u001b[0m\u001b[1;33m(\u001b[0m\u001b[0mcollection\u001b[0m\u001b[1;33m)\u001b[0m\u001b[1;33m\u001b[0m\u001b[0m\n\u001b[0;32m    851\u001b[0m             \u001b[1;32melif\u001b[0m \u001b[0ms\u001b[0m\u001b[1;33m.\u001b[0m\u001b[0mis_contour\u001b[0m\u001b[1;33m:\u001b[0m\u001b[1;33m\u001b[0m\u001b[0m\n",
        "\u001b[1;32m/usr/lib/python3.3/site-packages/sympy/plotting/plot.py\u001b[0m in \u001b[0;36mget_segments\u001b[1;34m(self)\u001b[0m\n\u001b[0;32m    454\u001b[0m \u001b[1;33m\u001b[0m\u001b[0m\n\u001b[0;32m    455\u001b[0m             \u001b[0mf_start\u001b[0m \u001b[1;33m=\u001b[0m \u001b[0mf\u001b[0m\u001b[1;33m(\u001b[0m\u001b[0mself\u001b[0m\u001b[1;33m.\u001b[0m\u001b[0mstart\u001b[0m\u001b[1;33m)\u001b[0m\u001b[1;33m\u001b[0m\u001b[0m\n\u001b[1;32m--> 456\u001b[1;33m             \u001b[0mf_end\u001b[0m \u001b[1;33m=\u001b[0m \u001b[0mf\u001b[0m\u001b[1;33m(\u001b[0m\u001b[0mself\u001b[0m\u001b[1;33m.\u001b[0m\u001b[0mend\u001b[0m\u001b[1;33m)\u001b[0m\u001b[1;33m\u001b[0m\u001b[0m\n\u001b[0m\u001b[0;32m    457\u001b[0m             \u001b[0msample\u001b[0m\u001b[1;33m(\u001b[0m\u001b[1;33m[\u001b[0m\u001b[0mself\u001b[0m\u001b[1;33m.\u001b[0m\u001b[0mstart\u001b[0m\u001b[1;33m,\u001b[0m \u001b[0mf_start\u001b[0m\u001b[1;33m]\u001b[0m\u001b[1;33m,\u001b[0m \u001b[1;33m[\u001b[0m\u001b[0mself\u001b[0m\u001b[1;33m.\u001b[0m\u001b[0mend\u001b[0m\u001b[1;33m,\u001b[0m \u001b[0mf_end\u001b[0m\u001b[1;33m]\u001b[0m\u001b[1;33m,\u001b[0m \u001b[1;36m0\u001b[0m\u001b[1;33m)\u001b[0m\u001b[1;33m\u001b[0m\u001b[0m\n\u001b[0;32m    458\u001b[0m             \u001b[1;32mreturn\u001b[0m \u001b[0mlist_segments\u001b[0m\u001b[1;33m\u001b[0m\u001b[0m\n",
        "\u001b[1;32m/usr/lib/python3.3/site-packages/sympy/plotting/experimental_lambdify.py\u001b[0m in \u001b[0;36m__call__\u001b[1;34m(self, args)\u001b[0m\n\u001b[0;32m    225\u001b[0m                                                     \u001b[0muse_evalf\u001b[0m\u001b[1;33m=\u001b[0m\u001b[1;32mTrue\u001b[0m\u001b[1;33m,\u001b[0m\u001b[1;33m\u001b[0m\u001b[0m\n\u001b[0;32m    226\u001b[0m                                                     complex_wrap_evalf=True)\n\u001b[1;32m--> 227\u001b[1;33m                 \u001b[0mresult\u001b[0m \u001b[1;33m=\u001b[0m \u001b[0mself\u001b[0m\u001b[1;33m.\u001b[0m\u001b[0mlambda_func\u001b[0m\u001b[1;33m(\u001b[0m\u001b[0margs\u001b[0m\u001b[1;33m)\u001b[0m\u001b[1;33m\u001b[0m\u001b[0m\n\u001b[0m\u001b[0;32m    228\u001b[0m                 warnings.warn('The evaluation of the expression is'\n\u001b[0;32m    229\u001b[0m                         \u001b[1;34m' problematic. We are trying a failback method'\u001b[0m\u001b[1;33m\u001b[0m\u001b[0m\n",
        "\u001b[1;32m<string>\u001b[0m in \u001b[0;36m<lambda>\u001b[1;34m(x)\u001b[0m\n",
        "\u001b[1;32m/usr/lib/python3.3/site-packages/sympy/core/function.py\u001b[0m in \u001b[0;36m__new__\u001b[1;34m(cls, expr, *variables, **assumptions)\u001b[0m\n\u001b[0;32m   1027\u001b[0m                 \u001b[1;32mfrom\u001b[0m \u001b[0msympy\u001b[0m\u001b[1;33m.\u001b[0m\u001b[0mutilities\u001b[0m\u001b[1;33m.\u001b[0m\u001b[0mmisc\u001b[0m \u001b[1;32mimport\u001b[0m \u001b[0mfilldedent\u001b[0m\u001b[1;33m\u001b[0m\u001b[0m\n\u001b[0;32m   1028\u001b[0m                 raise ValueError(filldedent('''\n\u001b[1;32m-> 1029\u001b[1;33m                 Can\\'t differentiate wrt the variable: %s, %s''' % (v, count)))\n\u001b[0m\u001b[0;32m   1030\u001b[0m \u001b[1;33m\u001b[0m\u001b[0m\n\u001b[0;32m   1031\u001b[0m             \u001b[1;32mif\u001b[0m \u001b[0mall_zero\u001b[0m \u001b[1;32mand\u001b[0m \u001b[1;32mnot\u001b[0m \u001b[0mcount\u001b[0m \u001b[1;33m==\u001b[0m \u001b[1;36m0\u001b[0m\u001b[1;33m:\u001b[0m\u001b[1;33m\u001b[0m\u001b[0m\n",
        "\u001b[1;31mValueError\u001b[0m: \nCan't differentiate wrt the variable: 10.0000000000000, 1"
       ]
      },
      {
       "metadata": {},
       "output_type": "display_data",
       "png": "[encoded data removed]",
       "text": [
        "<matplotlib.figure.Figure at 0x7fb28b05f410>"
       ]
      }
     ],
     "prompt_number": 30
    },
    {
     "cell_type": "code",
     "collapsed": false,
     "input": [],
     "language": "python",
     "metadata": {},
     "outputs": []
    }
   ],
   "metadata": {}
  }
 ]
}